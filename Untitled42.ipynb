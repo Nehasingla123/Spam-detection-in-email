{
  "nbformat": 4,
  "nbformat_minor": 0,
  "metadata": {
    "colab": {
      "provenance": [],
      "authorship_tag": "ABX9TyNCkgO4MzffhdyMsWkKOhEl",
      "include_colab_link": true
    },
    "kernelspec": {
      "name": "python3",
      "display_name": "Python 3"
    },
    "language_info": {
      "name": "python"
    }
  },
  "cells": [
    {
      "cell_type": "markdown",
      "metadata": {
        "id": "view-in-github",
        "colab_type": "text"
      },
      "source": [
        "<a href=\"https://colab.research.google.com/github/Nehasingla123/Spam-detection-in-email/blob/main/Untitled42.ipynb\" target=\"_parent\"><img src=\"https://colab.research.google.com/assets/colab-badge.svg\" alt=\"Open In Colab\"/></a>"
      ]
    },
    {
      "cell_type": "code",
      "execution_count": 4,
      "metadata": {
        "colab": {
          "base_uri": "https://localhost:8080/"
        },
        "id": "Es7bHXsy_Sjn",
        "outputId": "3c0b0da8-f1bb-4288-e52a-4edfede816bc"
      },
      "outputs": [
        {
          "output_type": "stream",
          "name": "stdout",
          "text": [
            "Model Accuracy: 0.9626704953338119\n",
            "\n",
            "Classification Report:\n",
            "               precision    recall  f1-score   support\n",
            "\n",
            "           0       0.96      1.00      0.98      1207\n",
            "           1       1.00      0.72      0.84       186\n",
            "\n",
            "    accuracy                           0.96      1393\n",
            "   macro avg       0.98      0.86      0.91      1393\n",
            "weighted avg       0.96      0.96      0.96      1393\n",
            "\n",
            "\n",
            "Predictions for sample emails: [0 0 1 0]\n"
          ]
        }
      ],
      "source": [
        "\n",
        "import pandas as pd\n",
        "from sklearn.pipeline import Pipeline\n",
        "from sklearn.feature_extraction.text import TfidfVectorizer\n",
        "from sklearn.naive_bayes import MultinomialNB\n",
        "from sklearn.model_selection import train_test_split\n",
        "from sklearn.metrics import accuracy_score, classification_report\n",
        "\n",
        "\n",
        "df = pd.read_csv(\"spam.csv\", encoding='latin-1')\n",
        "df = df[['Category', 'Message']]\n",
        "df['spam'] = df['Category'].apply(lambda x: 1 if x == 'spam' else 0)\n",
        "\n",
        "\n",
        "X = df['Message']\n",
        "y = df['spam']\n",
        "\n",
        "\n",
        "X_train, X_test, y_train, y_test = train_test_split(X, y, test_size=0.25, random_state=42)\n",
        "\n",
        "\n",
        "model = Pipeline([\n",
        "    ('vectorizer', TfidfVectorizer()),\n",
        "    ('nb', MultinomialNB())\n",
        "])\n",
        "\n",
        "\n",
        "model.fit(X_train, y_train)\n",
        "\n",
        "\n",
        "y_pred = model.predict(X_test)\n",
        "\n",
        "print(\"Model Accuracy:\", accuracy_score(y_test, y_pred))\n",
        "print(\"\\nClassification Report:\\n\", classification_report(y_test, y_pred))\n",
        "\n",
        "\n",
        "sample_emails = [\n",
        "    'We have an event of AWS',\n",
        "    'Upto 20% off for shoes',\n",
        "    'Congratulations! You have won a lottery worth $1000!',\n",
        "    'Please review the meeting agenda attached'\n",
        "]\n",
        "\n",
        "predictions = model.predict(sample_emails)\n",
        "print(\"\\nPredictions for sample emails:\", predictions)\n"
      ]
    }
  ]
}